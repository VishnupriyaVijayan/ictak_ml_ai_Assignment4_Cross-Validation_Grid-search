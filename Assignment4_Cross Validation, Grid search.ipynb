{
 "cells": [
  {
   "cell_type": "markdown",
   "id": "bab1b6ec",
   "metadata": {},
   "source": [
    "#### Import libraries "
   ]
  },
  {
   "cell_type": "code",
   "execution_count": 1,
   "id": "d97aa687",
   "metadata": {},
   "outputs": [],
   "source": [
    "import numpy as np\n",
    "import pandas as pd\n",
    "import matplotlib.pyplot as plt\n",
    "import seaborn as sns\n",
    "\n",
    "\n",
    "from sklearn.preprocessing import StandardScaler \n",
    "from sklearn.model_selection import train_test_split\n",
    "\n",
    "from sklearn.linear_model import LogisticRegression\n",
    "from sklearn.neighbors import KNeighborsClassifier\n",
    "from sklearn.svm import SVC\n",
    "from sklearn.tree import DecisionTreeClassifier\n",
    "from sklearn.ensemble import RandomForestClassifier\n",
    "\n",
    "from sklearn.model_selection import cross_val_score,KFold\n",
    "from sklearn.model_selection import GridSearchCV\n",
    "\n",
    "from sklearn.metrics import accuracy_score,confusion_matrix,classification_report\n",
    "\n",
    "import warnings\n",
    "warnings.filterwarnings('ignore')"
   ]
  },
  {
   "cell_type": "markdown",
   "id": "fdd2f99a",
   "metadata": {},
   "source": [
    "#### load data "
   ]
  },
  {
   "cell_type": "code",
   "execution_count": 2,
   "id": "82f3cfe0",
   "metadata": {},
   "outputs": [],
   "source": [
    "address=r\"F:\\Tutorials\\Certified program in MACHINE LEARNING and ARTIFICIAL INTELLIGENCE\\Assignments\\assignment_4\\titanic.csv\"\n",
    "data=pd.read_csv(address)"
   ]
  },
  {
   "cell_type": "markdown",
   "id": "8dad6052",
   "metadata": {},
   "source": [
    "#### analyze data "
   ]
  },
  {
   "cell_type": "code",
   "execution_count": 3,
   "id": "132aafbb",
   "metadata": {},
   "outputs": [
    {
     "name": "stdout",
     "output_type": "stream",
     "text": [
      "<class 'pandas.core.frame.DataFrame'>\n",
      "RangeIndex: 891 entries, 0 to 890\n",
      "Data columns (total 12 columns):\n",
      " #   Column       Non-Null Count  Dtype  \n",
      "---  ------       --------------  -----  \n",
      " 0   PassengerId  891 non-null    int64  \n",
      " 1   Survived     891 non-null    int64  \n",
      " 2   Pclass       891 non-null    int64  \n",
      " 3   Name         891 non-null    object \n",
      " 4   Sex          891 non-null    object \n",
      " 5   Age          714 non-null    float64\n",
      " 6   SibSp        891 non-null    int64  \n",
      " 7   Parch        891 non-null    int64  \n",
      " 8   Ticket       891 non-null    object \n",
      " 9   Fare         891 non-null    float64\n",
      " 10  Cabin        204 non-null    object \n",
      " 11  Embarked     889 non-null    object \n",
      "dtypes: float64(2), int64(5), object(5)\n",
      "memory usage: 83.7+ KB\n"
     ]
    }
   ],
   "source": [
    "data.info()"
   ]
  },
  {
   "cell_type": "code",
   "execution_count": 4,
   "id": "294f758e",
   "metadata": {},
   "outputs": [],
   "source": [
    "#### Split data to feature matrix and label\n",
    "X=data[['Pclass','SibSp','Parch','Fare']]\n",
    "y=data['Survived']"
   ]
  },
  {
   "cell_type": "code",
   "execution_count": 5,
   "id": "e91db8ac",
   "metadata": {},
   "outputs": [
    {
     "data": {
      "text/html": [
       "<div>\n",
       "<style scoped>\n",
       "    .dataframe tbody tr th:only-of-type {\n",
       "        vertical-align: middle;\n",
       "    }\n",
       "\n",
       "    .dataframe tbody tr th {\n",
       "        vertical-align: top;\n",
       "    }\n",
       "\n",
       "    .dataframe thead th {\n",
       "        text-align: right;\n",
       "    }\n",
       "</style>\n",
       "<table border=\"1\" class=\"dataframe\">\n",
       "  <thead>\n",
       "    <tr style=\"text-align: right;\">\n",
       "      <th></th>\n",
       "      <th>count</th>\n",
       "      <th>mean</th>\n",
       "      <th>std</th>\n",
       "      <th>min</th>\n",
       "      <th>25%</th>\n",
       "      <th>50%</th>\n",
       "      <th>75%</th>\n",
       "      <th>max</th>\n",
       "    </tr>\n",
       "  </thead>\n",
       "  <tbody>\n",
       "    <tr>\n",
       "      <th>Pclass</th>\n",
       "      <td>891.0</td>\n",
       "      <td>2.308642</td>\n",
       "      <td>0.836071</td>\n",
       "      <td>1.0</td>\n",
       "      <td>2.0000</td>\n",
       "      <td>3.0000</td>\n",
       "      <td>3.0</td>\n",
       "      <td>3.0000</td>\n",
       "    </tr>\n",
       "    <tr>\n",
       "      <th>SibSp</th>\n",
       "      <td>891.0</td>\n",
       "      <td>0.523008</td>\n",
       "      <td>1.102743</td>\n",
       "      <td>0.0</td>\n",
       "      <td>0.0000</td>\n",
       "      <td>0.0000</td>\n",
       "      <td>1.0</td>\n",
       "      <td>8.0000</td>\n",
       "    </tr>\n",
       "    <tr>\n",
       "      <th>Parch</th>\n",
       "      <td>891.0</td>\n",
       "      <td>0.381594</td>\n",
       "      <td>0.806057</td>\n",
       "      <td>0.0</td>\n",
       "      <td>0.0000</td>\n",
       "      <td>0.0000</td>\n",
       "      <td>0.0</td>\n",
       "      <td>6.0000</td>\n",
       "    </tr>\n",
       "    <tr>\n",
       "      <th>Fare</th>\n",
       "      <td>891.0</td>\n",
       "      <td>32.204208</td>\n",
       "      <td>49.693429</td>\n",
       "      <td>0.0</td>\n",
       "      <td>7.9104</td>\n",
       "      <td>14.4542</td>\n",
       "      <td>31.0</td>\n",
       "      <td>512.3292</td>\n",
       "    </tr>\n",
       "  </tbody>\n",
       "</table>\n",
       "</div>"
      ],
      "text/plain": [
       "        count       mean        std  min     25%      50%   75%       max\n",
       "Pclass  891.0   2.308642   0.836071  1.0  2.0000   3.0000   3.0    3.0000\n",
       "SibSp   891.0   0.523008   1.102743  0.0  0.0000   0.0000   1.0    8.0000\n",
       "Parch   891.0   0.381594   0.806057  0.0  0.0000   0.0000   0.0    6.0000\n",
       "Fare    891.0  32.204208  49.693429  0.0  7.9104  14.4542  31.0  512.3292"
      ]
     },
     "execution_count": 5,
     "metadata": {},
     "output_type": "execute_result"
    }
   ],
   "source": [
    "X.describe().T"
   ]
  },
  {
   "cell_type": "markdown",
   "id": "876a3558",
   "metadata": {},
   "source": [
    "#### Scale data"
   ]
  },
  {
   "cell_type": "code",
   "execution_count": 6,
   "id": "d25357d5",
   "metadata": {},
   "outputs": [],
   "source": [
    "def scale_std(X_train,X_test):\n",
    "    sc = StandardScaler()\n",
    "    sc.fit(X_train)\n",
    "    X_train_std = sc.transform(X_train)\n",
    "    X_test_std = sc.transform(X_test)\n",
    "    return X_train_std,X_test_std"
   ]
  },
  {
   "cell_type": "markdown",
   "id": "0d28727c",
   "metadata": {},
   "source": [
    "#### Split dataset to training and testing set"
   ]
  },
  {
   "cell_type": "code",
   "execution_count": 7,
   "id": "b88c5ed9",
   "metadata": {},
   "outputs": [
    {
     "name": "stdout",
     "output_type": "stream",
     "text": [
      "The training dataset has 712 records.\n",
      "The testing dataset has 179 records.\n"
     ]
    }
   ],
   "source": [
    "X_train, X_test, y_train, y_test = train_test_split(X,y, test_size=0.20, random_state=42)\n",
    "\n",
    "print(f'The training dataset has {len(X_train)} records.')\n",
    "print(f'The testing dataset has {len(X_test)} records.')"
   ]
  },
  {
   "cell_type": "code",
   "execution_count": 8,
   "id": "9bc8109b",
   "metadata": {},
   "outputs": [],
   "source": [
    "X_train_std,X_test_std=scale_std(X_train,X_test)"
   ]
  },
  {
   "cell_type": "markdown",
   "id": "835b60b8",
   "metadata": {},
   "source": [
    "#### function to plot confusion_matrix, accuracy"
   ]
  },
  {
   "cell_type": "code",
   "execution_count": 9,
   "id": "3c321bfa",
   "metadata": {},
   "outputs": [],
   "source": [
    "def plot_conf(ypred,y_test):\n",
    "    cf_matrix = confusion_matrix( ypred,y_test)\n",
    "    ax= plt.subplot()\n",
    "    sns.heatmap(cf_matrix,annot=True,ax=ax, cmap=\"BuPu\")\n",
    "    ax.set_xlabel('Predicted labels')\n",
    "    ax.set_ylabel('True labels')\n",
    "    ax.set_title('Confusion Matrix')\n",
    "    "
   ]
  },
  {
   "cell_type": "code",
   "execution_count": 10,
   "id": "0987afc9",
   "metadata": {},
   "outputs": [],
   "source": [
    "def acc_model(model,X_train,y_train,X_test,y_test,kf):\n",
    "    model.fit(X_train, y_train)\n",
    "    ypred=model.predict(X_test)\n",
    "    err=accuracy_score(y_test, ypred)\n",
    "    score=cross_val_score(model,X,y,cv=kf).mean()\n",
    "    print(\".......................................................................\")\n",
    "    print(model)\n",
    "    print(\".......................................................................\")\n",
    "    print('{}% of the test samples are corrrectly classified'.format(err*100))\n",
    "    print('{}% of the test samples are corrrectly classified using K-Fold validation\\n'.format(score*100))\n",
    "    plt.figure(figsize=(3,3),dpi=100)\n",
    "    plot_conf(ypred,y_test)\n",
    "    plt.show()\n",
    "    \n",
    "    return err,score"
   ]
  },
  {
   "cell_type": "markdown",
   "id": "24a58ef8",
   "metadata": {},
   "source": [
    "#### Classification models "
   ]
  },
  {
   "cell_type": "code",
   "execution_count": 11,
   "id": "10f8aac5",
   "metadata": {},
   "outputs": [],
   "source": [
    "kf=KFold(n_splits=5)  # cross validation with Kfold"
   ]
  },
  {
   "cell_type": "code",
   "execution_count": 12,
   "id": "d884e668",
   "metadata": {},
   "outputs": [
    {
     "name": "stdout",
     "output_type": "stream",
     "text": [
      ".......................................................................\n",
      "LogisticRegression()\n",
      ".......................................................................\n",
      "71.50837988826815% of the test samples are corrrectly classified\n",
      "68.24430355909861% of the test samples are corrrectly classified using K-Fold validation\n",
      "\n"
     ]
    },
    {
     "data": {
      "image/png": "[encoded data removed]",
      "text/plain": [
       "<Figure size 300x300 with 2 Axes>"
      ]
     },
     "metadata": {
      "needs_background": "light"
     },
     "output_type": "display_data"
    },
    {
     "name": "stdout",
     "output_type": "stream",
     "text": [
      ".......................................................................\n",
      "SVC()\n",
      ".......................................................................\n",
      "65.36312849162012% of the test samples are corrrectly classified\n",
      "66.55953800765802% of the test samples are corrrectly classified using K-Fold validation\n",
      "\n"
     ]
    },
    {
     "data": {
      "image/png": "[encoded data removed]",
      "text/plain": [
       "<Figure size 300x300 with 2 Axes>"
      ]
     },
     "metadata": {
      "needs_background": "light"
     },
     "output_type": "display_data"
    },
    {
     "name": "stdout",
     "output_type": "stream",
     "text": [
      "Best k: 12\n",
      ".......................................................................\n",
      "KNeighborsClassifier(n_neighbors=12)\n",
      ".......................................................................\n",
      "72.06703910614524% of the test samples are corrrectly classified\n",
      "68.35791852363317% of the test samples are corrrectly classified using K-Fold validation\n",
      "\n"
     ]
    },
    {
     "data": {
      "image/png": "[encoded data removed]",
      "text/plain": [
       "<Figure size 600x400 with 1 Axes>"
      ]
     },
     "metadata": {
      "needs_background": "light"
     },
     "output_type": "display_data"
    },
    {
     "data": {
      "image/png": "[encoded data removed]",
      "text/plain": [
       "<Figure size 300x300 with 2 Axes>"
      ]
     },
     "metadata": {
      "needs_background": "light"
     },
     "output_type": "display_data"
    },
    {
     "name": "stdout",
     "output_type": "stream",
     "text": [
      ".......................................................................\n",
      "DecisionTreeClassifier()\n",
      ".......................................................................\n",
      "69.27374301675978% of the test samples are corrrectly classified\n",
      "68.91343920657837% of the test samples are corrrectly classified using K-Fold validation\n",
      "\n"
     ]
    },
    {
     "data": {
      "image/png": "[encoded data removed]",
      "text/plain": [
       "<Figure size 300x300 with 2 Axes>"
      ]
     },
     "metadata": {
      "needs_background": "light"
     },
     "output_type": "display_data"
    },
    {
     "name": "stdout",
     "output_type": "stream",
     "text": [
      ".......................................................................\n",
      "RandomForestClassifier(random_state=42)\n",
      ".......................................................................\n",
      "69.83240223463687% of the test samples are corrrectly classified\n",
      "68.58012679681124% of the test samples are corrrectly classified using K-Fold validation\n",
      "\n"
     ]
    },
    {
     "data": {
      "image/png": "[encoded data removed]",
      "text/plain": [
       "<Figure size 300x300 with 2 Axes>"
      ]
     },
     "metadata": {
      "needs_background": "light"
     },
     "output_type": "display_data"
    }
   ],
   "source": [
    "### Logistic Regression\n",
    "model=LogisticRegression()\n",
    "err1,score1=acc_model(model,X_train_std,y_train,X_test_std,y_test,kf) \n",
    "\n",
    "### SVM\n",
    "model= SVC()\n",
    "err2,score2=acc_model(model,X_train,y_train,X_test,y_test,kf)  \n",
    "\n",
    "### KNN\n",
    "\n",
    "# Finding the best k value\n",
    "err=[]\n",
    "for k in range(1,50):\n",
    "    neigh = KNeighborsClassifier(n_neighbors=k)\n",
    "    modelKNN=neigh.fit(X_train,y_train)\n",
    "    ypred=modelKNN.predict(X_test)\n",
    "    acc=accuracy_score(y_test, ypred)\n",
    "    err.append(1-acc)\n",
    "plt.figure(dpi=100)\n",
    "plt.plot(range(1,50),err)\n",
    "plt.xlabel('k--->')\n",
    "plt.ylabel('error--->')\n",
    "\n",
    "k=err.index(min(err))+1\n",
    "print('Best k:',k)\n",
    "\n",
    "model=KNeighborsClassifier(n_neighbors=k)\n",
    "err3,score3=acc_model(model,X_train,y_train,X_test,y_test,kf)  \n",
    "\n",
    "### Decision Tree\n",
    "model=DecisionTreeClassifier()\n",
    "err4,score4=acc_model(model,X_train,y_train,X_test,y_test,kf) \n",
    "### Random Forest\n",
    "model=RandomForestClassifier(n_estimators=100, random_state=42)\n",
    "err5,score5=acc_model(model,X_train,y_train,X_test,y_test,kf)  \n"
   ]
  },
  {
   "cell_type": "markdown",
   "id": "0733e329",
   "metadata": {},
   "source": [
    "#### Classification using SVM by hyperparameter optimization"
   ]
  },
  {
   "cell_type": "code",
   "execution_count": 13,
   "id": "a1802ccb",
   "metadata": {},
   "outputs": [],
   "source": [
    "parameters ={'C': [0.1, 1, 10, 100, 1000],\n",
    "             'gamma': [1, 0.1, 0.01, 0.001, 0.0001],\n",
    "             'kernel': ['rbf']}\n",
    "\n",
    "grid_search = GridSearchCV( SVC(), \n",
    "                            parameters, \n",
    "                            cv=5,\n",
    "                            scoring='accuracy',n_jobs=-1)"
   ]
  },
  {
   "cell_type": "code",
   "execution_count": 14,
   "id": "7cf20b9c",
   "metadata": {},
   "outputs": [
    {
     "name": "stdout",
     "output_type": "stream",
     "text": [
      "Best Params:  {'C': 100, 'gamma': 0.1, 'kernel': 'rbf'}\n",
      "Best Score:  0.6994385895794347\n"
     ]
    }
   ],
   "source": [
    "grid_result= grid_search.fit(X_train,y_train)\n",
    "print('Best Params: ', grid_result.best_params_)\n",
    "print('Best Score: ', grid_result.best_score_)"
   ]
  },
  {
   "cell_type": "code",
   "execution_count": 15,
   "id": "e63f7e7e",
   "metadata": {},
   "outputs": [
    {
     "name": "stdout",
     "output_type": "stream",
     "text": [
      ".......................................................................\n",
      "SVC(C=100, gamma=0.1)\n",
      ".......................................................................\n",
      "72.06703910614524% of the test samples are corrrectly classified\n",
      "69.81482643901826% of the test samples are corrrectly classified using K-Fold validation\n",
      "\n"
     ]
    },
    {
     "data": {
      "image/png": "[encoded data removed]",
      "text/plain": [
       "<Figure size 300x300 with 2 Axes>"
      ]
     },
     "metadata": {
      "needs_background": "light"
     },
     "output_type": "display_data"
    }
   ],
   "source": [
    "### SVM with parameter optimization\n",
    "model=SVC(C=100, gamma= 0.1,kernel='rbf')\n",
    "err6,score6=acc_model(model,X_train,y_train,X_test,y_test,kf)  "
   ]
  },
  {
   "cell_type": "code",
   "execution_count": 16,
   "id": "3461a507",
   "metadata": {},
   "outputs": [
    {
     "data": {
      "text/html": [
       "<div>\n",
       "<style scoped>\n",
       "    .dataframe tbody tr th:only-of-type {\n",
       "        vertical-align: middle;\n",
       "    }\n",
       "\n",
       "    .dataframe tbody tr th {\n",
       "        vertical-align: top;\n",
       "    }\n",
       "\n",
       "    .dataframe thead th {\n",
       "        text-align: right;\n",
       "    }\n",
       "</style>\n",
       "<table border=\"1\" class=\"dataframe\">\n",
       "  <thead>\n",
       "    <tr style=\"text-align: right;\">\n",
       "      <th></th>\n",
       "      <th>accuracy</th>\n",
       "      <th>accuracy_CV</th>\n",
       "    </tr>\n",
       "    <tr>\n",
       "      <th>Classifier</th>\n",
       "      <th></th>\n",
       "      <th></th>\n",
       "    </tr>\n",
       "  </thead>\n",
       "  <tbody>\n",
       "    <tr>\n",
       "      <th>SVM-Tuned</th>\n",
       "      <td>72.06703910614524</td>\n",
       "      <td>69.81482643901826</td>\n",
       "    </tr>\n",
       "    <tr>\n",
       "      <th>DT</th>\n",
       "      <td>69.27374301675978</td>\n",
       "      <td>68.91343920657837</td>\n",
       "    </tr>\n",
       "    <tr>\n",
       "      <th>RF</th>\n",
       "      <td>69.83240223463687</td>\n",
       "      <td>68.58012679681124</td>\n",
       "    </tr>\n",
       "    <tr>\n",
       "      <th>KNN</th>\n",
       "      <td>72.06703910614524</td>\n",
       "      <td>68.35791852363317</td>\n",
       "    </tr>\n",
       "    <tr>\n",
       "      <th>LR</th>\n",
       "      <td>71.50837988826815</td>\n",
       "      <td>68.24430355909861</td>\n",
       "    </tr>\n",
       "    <tr>\n",
       "      <th>SVM</th>\n",
       "      <td>65.36312849162012</td>\n",
       "      <td>66.55953800765802</td>\n",
       "    </tr>\n",
       "  </tbody>\n",
       "</table>\n",
       "</div>"
      ],
      "text/plain": [
       "                     accuracy        accuracy_CV\n",
       "Classifier                                      \n",
       "SVM-Tuned   72.06703910614524  69.81482643901826\n",
       "DT          69.27374301675978  68.91343920657837\n",
       "RF          69.83240223463687  68.58012679681124\n",
       "KNN         72.06703910614524  68.35791852363317\n",
       "LR          71.50837988826815  68.24430355909861\n",
       "SVM         65.36312849162012  66.55953800765802"
      ]
     },
     "execution_count": 16,
     "metadata": {},
     "output_type": "execute_result"
    }
   ],
   "source": [
    "models=['LR', 'SVM','KNN','DT', 'RF','SVM-Tuned']\n",
    "accuracy=[err1,err2,err3,err4,err5,err6]\n",
    "accuracy_kfold=[score1,score2,score3,score4,score5,score6]\n",
    "\n",
    "result_list = pd.DataFrame(np.column_stack([models,[x * 100 for x in accuracy],[x * 100 for x in accuracy_kfold]]), \n",
    "                               columns=['Classifier', 'accuracy','accuracy_CV'])\n",
    "\n",
    "result_list.set_index('Classifier')\n",
    "result_list.sort_values(by=['accuracy_CV'],ascending=False).set_index('Classifier')"
   ]
  },
  {
   "cell_type": "code",
   "execution_count": null,
   "id": "241134dd",
   "metadata": {},
   "outputs": [],
   "source": []
  },
  {
   "cell_type": "code",
   "execution_count": null,
   "id": "a20fdef1",
   "metadata": {},
   "outputs": [],
   "source": []
  }
 ],
 "metadata": {
  "kernelspec": {
   "display_name": "Python 3",
   "language": "python",
   "name": "python3"
  },
  "language_info": {
   "codemirror_mode": {
    "name": "ipython",
    "version": 3
   },
   "file_extension": ".py",
   "mimetype": "text/x-python",
   "name": "python",
   "nbconvert_exporter": "python",
   "pygments_lexer": "ipython3",
   "version": "3.8.8"
  }
 },
 "nbformat": 4,
 "nbformat_minor": 5
}
